{
 "cells": [
  {
   "cell_type": "code",
   "execution_count": 1,
   "id": "63f6bd82-6bc1-457a-873b-c205a4312670",
   "metadata": {
    "scrolled": true
   },
   "outputs": [],
   "source": [
    "%load_ext autoreload\n",
    "%autoreload 2"
   ]
  },
  {
   "cell_type": "code",
   "execution_count": 2,
   "id": "8072fdb0-a7ce-440d-956c-af67834a34b7",
   "metadata": {},
   "outputs": [],
   "source": [
    "import sys\n",
    "import os\n",
    "import glob\n",
    "\n",
    "import tifffile\n",
    "from skimage.color import rgb2gray\n",
    "import matplotlib.pyplot as plt\n",
    "\n",
    "import autobl.analysis.segmentation"
   ]
  },
  {
   "cell_type": "code",
   "execution_count": 3,
   "id": "a4982a8f-bcc1-46ea-b881-229b8c6cf7e5",
   "metadata": {},
   "outputs": [],
   "source": [
    "img_cell = tifffile.imread(os.path.join('data', 'raw', 'cell_bw_1s_000.tif'))\n",
    "img_capillary = tifffile.imread(os.path.join('data', 'raw', 'capillaryl_bw_0p015_000.tif'))"
   ]
  },
  {
   "cell_type": "code",
   "execution_count": 4,
   "id": "cd6630e8-dbaf-49a2-b829-be61c22772d1",
   "metadata": {},
   "outputs": [],
   "source": [
    "seg_alg_selector = autobl.analysis.segmentation.SegmentationAlgorithmSelector(downsample=4)"
   ]
  },
  {
   "cell_type": "code",
   "execution_count": 5,
   "id": "c015dd6f-2b79-4371-adc2-c2d1fe37725c",
   "metadata": {},
   "outputs": [
    {
     "name": "stderr",
     "output_type": "stream",
     "text": [
      "100%|██████████████████████████████████████████████████████████████████████████| 62/62 [00:00<00:00, 82.56it/s]\n"
     ]
    },
    {
     "data": {
      "text/plain": [
       "autobl.analysis.segmentation.BubbleSegmentor"
      ]
     },
     "execution_count": 5,
     "metadata": {},
     "output_type": "execute_result"
    }
   ],
   "source": [
    "seg_alg_selector.set_camera_image(img_cell)\n",
    "seg_alg_selector.run_selection()"
   ]
  },
  {
   "cell_type": "code",
   "execution_count": 6,
   "id": "4e3a916f-8ed3-4057-b753-0c6a4fbd79cd",
   "metadata": {},
   "outputs": [
    {
     "name": "stderr",
     "output_type": "stream",
     "text": [
      "100%|██████████████████████████████████████████████████████████████████████| 420/420 [00:00<00:00, 2069.41it/s]\n"
     ]
    },
    {
     "data": {
      "text/plain": [
       "autobl.analysis.segmentation.CapillarySegmentor"
      ]
     },
     "execution_count": 6,
     "metadata": {},
     "output_type": "execute_result"
    }
   ],
   "source": [
    "seg_alg_selector.set_camera_image(img_capillary)\n",
    "seg_alg_selector.run_selection()"
   ]
  }
 ],
 "metadata": {
  "kernelspec": {
   "display_name": "Python 3 (ipykernel)",
   "language": "python",
   "name": "python3"
  },
  "language_info": {
   "codemirror_mode": {
    "name": "ipython",
    "version": 3
   },
   "file_extension": ".py",
   "mimetype": "text/x-python",
   "name": "python",
   "nbconvert_exporter": "python",
   "pygments_lexer": "ipython3",
   "version": "3.11.6"
  }
 },
 "nbformat": 4,
 "nbformat_minor": 5
}
